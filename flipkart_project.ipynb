{
  "nbformat": 4,
  "nbformat_minor": 0,
  "metadata": {
    "colab": {
      "name": "flipkart_project.ipynb",
      "provenance": [],
      "collapsed_sections": [],
      "authorship_tag": "ABX9TyMCHVhTxtNN4K0pGc2o2R0V",
      "include_colab_link": true
    },
    "kernelspec": {
      "name": "python3",
      "display_name": "Python 3"
    },
    "language_info": {
      "name": "python"
    }
  },
  "cells": [
    {
      "cell_type": "markdown",
      "metadata": {
        "id": "view-in-github",
        "colab_type": "text"
      },
      "source": [
        "<a href=\"https://colab.research.google.com/github/shefnaa/flipkart_scraping/blob/main/flipkart_project.ipynb\" target=\"_parent\"><img src=\"https://colab.research.google.com/assets/colab-badge.svg\" alt=\"Open In Colab\"/></a>"
      ]
    },
    {
      "cell_type": "code",
      "metadata": {
        "id": "ELCK2Xrj-yRL"
      },
      "source": [
        "import time\n",
        "import requests\n",
        "from IPython.display import clear_output\n",
        "from bs4 import BeautifulSoup\n",
        "import pandas as pd\n",
        "\n",
        "base_url = 'https://www.flipkart.com/search?q=macbook&sid=6bo%2Cb5g&as=on&as-show=on&otracker=AS_QueryStore_HistoryAutoSuggest_1_2_na_na_na&otracker1=AS_QueryStore_HistoryAutoSuggest_1_2_na_na_na&as-pos=1&as-type=HISTORY&suggestionId=macbook%7CLaptops&requestId=fac3745a-260d-4e22-8a62-d7000b982913&page='\n",
        " \n",
        "product=[]\n",
        "price=[]\n",
        "star=[]\n",
        "review=[]\n",
        "rating=[]\n",
        "describtion=[]\n",
        " \n",
        "for i in range(1,3):\n",
        "  time.sleep(3)\n",
        "  url=base_url+str(i)\n",
        "  req=requests.get(url)\n",
        "  soup=BeautifulSoup(req.text,'html')\n",
        " \n",
        "  #product name\n",
        "  p=soup.findAll('div',attrs={'class':'_4rR01T'})                \n",
        "  for i in p:\n",
        "    product.append(i.text)\n",
        "  \n",
        " \n",
        "   # price\n",
        "  pr=soup.findAll('div',attrs={'class':'_30jeq3 _1_WHN1'})          \n",
        "  for i in pr:\n",
        "    price.append(i.text)\n",
        "  \n",
        "  #star rating\n",
        "  s=soup.findAll('div',attrs={'class':'gUuXy-'})                    \n",
        "  for i in s:\n",
        "    star.append(i.text)\n",
        "  \n",
        "  #ratings n reviews\n",
        "  r=soup.findAll('span',attrs={'class':'_2_R_DZ'})       \n",
        "  for i in r:\n",
        "    r=i.text.split('&')\n",
        "    rating.append(r[0].split(' ')[0])\n",
        "    review.append(r[1].split(' ')[0].strip())\n",
        "  \n",
        " \n",
        " #describtions\n",
        "  a=soup.findAll('ul',attrs={'class':'_1xgFaf'})               \n",
        "  for i in a:\n",
        "    a=i.findAll('li')\n",
        "    describtion.append([i.text for i in a])"
      ],
      "execution_count": 1,
      "outputs": []
    },
    {
      "cell_type": "code",
      "metadata": {
        "id": "tdyOFOR2EsbP"
      },
      "source": [
        "data=pd.DataFrame({'Product_name' : product,\n",
        "                   'Price' : price,\n",
        "                   'star_ratings':star,\n",
        "                   'Reviews': review,\n",
        "                   'Ratings': rating,\n",
        "                   'Describtions': describtion\n",
        "                  })\n"
      ],
      "execution_count": null,
      "outputs": []
    },
    {
      "cell_type": "code",
      "metadata": {
        "id": "hy_D51lVIeVm"
      },
      "source": [
        "data.to_csv('flipkartdata.csv',index= False)"
      ],
      "execution_count": 3,
      "outputs": []
    }
  ]
}